{
 "cells": [
  {
   "cell_type": "code",
   "execution_count": 1,
   "metadata": {
    "collapsed": true
   },
   "outputs": [],
   "source": [
    "# Load Libraries\n",
    "\n",
    "import pandas as pd\n",
    "import numpy as np\n",
    "%matplotlib inline"
   ]
  },
  {
   "cell_type": "code",
   "execution_count": 3,
   "metadata": {
    "collapsed": false
   },
   "outputs": [
    {
     "name": "stdout",
     "output_type": "stream",
     "text": [
      "E:\\SS\\AV\\GBM Example\n"
     ]
    }
   ],
   "source": [
    "cd 'E:\\SS\\AV\\GBM Example'"
   ]
  },
  {
   "cell_type": "code",
   "execution_count": 4,
   "metadata": {
    "collapsed": false
   },
   "outputs": [],
   "source": [
    "#Load data:\n",
    "train = pd.read_csv('Train.csv')\n",
    "test = pd.read_csv('Test.csv')"
   ]
  },
  {
   "cell_type": "code",
   "execution_count": 5,
   "metadata": {
    "collapsed": false
   },
   "outputs": [
    {
     "data": {
      "text/plain": [
       "((87020, 26), (37717, 24))"
      ]
     },
     "execution_count": 5,
     "metadata": {},
     "output_type": "execute_result"
    }
   ],
   "source": [
    "train.shape, test.shape"
   ]
  },
  {
   "cell_type": "code",
   "execution_count": 6,
   "metadata": {
    "collapsed": false
   },
   "outputs": [
    {
     "data": {
      "text/plain": [
       "ID                        object\n",
       "Gender                    object\n",
       "City                      object\n",
       "Monthly_Income             int64\n",
       "DOB                       object\n",
       "Lead_Creation_Date        object\n",
       "Loan_Amount_Applied      float64\n",
       "Loan_Tenure_Applied      float64\n",
       "Existing_EMI             float64\n",
       "Employer_Name             object\n",
       "Salary_Account            object\n",
       "Mobile_Verified           object\n",
       "Var5                       int64\n",
       "Var1                      object\n",
       "Loan_Amount_Submitted    float64\n",
       "Loan_Tenure_Submitted    float64\n",
       "Interest_Rate            float64\n",
       "Processing_Fee           float64\n",
       "EMI_Loan_Submitted       float64\n",
       "Filled_Form               object\n",
       "Device_Type               object\n",
       "Var2                      object\n",
       "Source                    object\n",
       "Var4                       int64\n",
       "LoggedIn                   int64\n",
       "Disbursed                  int64\n",
       "dtype: object"
      ]
     },
     "execution_count": 6,
     "metadata": {},
     "output_type": "execute_result"
    }
   ],
   "source": [
    "train.dtypes"
   ]
  },
  {
   "cell_type": "code",
   "execution_count": 7,
   "metadata": {
    "collapsed": false
   },
   "outputs": [
    {
     "data": {
      "text/plain": [
       "(124737, 27)"
      ]
     },
     "execution_count": 7,
     "metadata": {},
     "output_type": "execute_result"
    }
   ],
   "source": [
    "#Combine into data:\n",
    "train['source']= 'train'\n",
    "test['source'] = 'test'\n",
    "data=pd.concat([train, test],ignore_index=True)\n",
    "data.shape"
   ]
  },
  {
   "cell_type": "code",
   "execution_count": 8,
   "metadata": {
    "collapsed": false
   },
   "outputs": [
    {
     "data": {
      "text/plain": [
       "City                      1401\n",
       "DOB                          0\n",
       "Device_Type                  0\n",
       "Disbursed                37717\n",
       "EMI_Loan_Submitted       84901\n",
       "Employer_Name              113\n",
       "Existing_EMI               111\n",
       "Filled_Form                  0\n",
       "Gender                       0\n",
       "ID                           0\n",
       "Interest_Rate            84901\n",
       "Lead_Creation_Date           0\n",
       "Loan_Amount_Applied        111\n",
       "Loan_Amount_Submitted    49535\n",
       "Loan_Tenure_Applied        111\n",
       "Loan_Tenure_Submitted    49535\n",
       "LoggedIn                 37717\n",
       "Mobile_Verified              0\n",
       "Monthly_Income               0\n",
       "Processing_Fee           85346\n",
       "Salary_Account           16801\n",
       "Source                       0\n",
       "Var1                         0\n",
       "Var2                         0\n",
       "Var4                         0\n",
       "Var5                         0\n",
       "source                       0\n",
       "dtype: int64"
      ]
     },
     "execution_count": 8,
     "metadata": {},
     "output_type": "execute_result"
    }
   ],
   "source": [
    "##Check missing:\n",
    "data.apply(lambda x: sum(x.isnull()))\n"
   ]
  },
  {
   "cell_type": "code",
   "execution_count": 9,
   "metadata": {
    "collapsed": false
   },
   "outputs": [
    {
     "name": "stdout",
     "output_type": "stream",
     "text": [
      "\n",
      "Frequency count for variable Gender\n",
      "Male      71398\n",
      "Female    53339\n",
      "Name: Gender, dtype: int64\n",
      "\n",
      "Frequency count for variable Salary_Account\n",
      "HDFC Bank                                          25180\n",
      "ICICI Bank                                         19547\n",
      "State Bank of India                                17110\n",
      "Axis Bank                                          12590\n",
      "Citibank                                            3398\n",
      "Kotak Bank                                          2955\n",
      "IDBI Bank                                           2213\n",
      "Punjab National Bank                                1747\n",
      "Bank of India                                       1713\n",
      "Bank of Baroda                                      1675\n",
      "Standard Chartered Bank                             1434\n",
      "Canara Bank                                         1385\n",
      "Union Bank of India                                 1330\n",
      "Yes Bank                                            1120\n",
      "ING Vysya                                            996\n",
      "Corporation bank                                     948\n",
      "Indian Overseas Bank                                 901\n",
      "State Bank of Hyderabad                              854\n",
      "Indian Bank                                          773\n",
      "Oriental Bank of Commerce                            761\n",
      "IndusInd Bank                                        711\n",
      "Andhra Bank                                          706\n",
      "Central Bank of India                                648\n",
      "Syndicate Bank                                       614\n",
      "Bank of Maharasthra                                  576\n",
      "HSBC                                                 474\n",
      "State Bank of Bikaner & Jaipur                       448\n",
      "Karur Vysya Bank                                     435\n",
      "State Bank of Mysore                                 385\n",
      "Federal Bank                                         377\n",
      "Vijaya Bank                                          354\n",
      "Allahabad Bank                                       345\n",
      "UCO Bank                                             344\n",
      "State Bank of Travancore                             333\n",
      "Karnataka Bank                                       279\n",
      "United Bank of India                                 276\n",
      "Dena Bank                                            268\n",
      "Saraswat Bank                                        265\n",
      "State Bank of Patiala                                263\n",
      "South Indian Bank                                    223\n",
      "Deutsche Bank                                        176\n",
      "Abhyuday Co-op Bank Ltd                              161\n",
      "The Ratnakar Bank Ltd                                113\n",
      "Tamil Nadu Mercantile Bank                           103\n",
      "Punjab & Sind bank                                    84\n",
      "J&K Bank                                              78\n",
      "Lakshmi Vilas bank                                    69\n",
      "Dhanalakshmi Bank Ltd                                 66\n",
      "State Bank of Indore                                  32\n",
      "Catholic Syrian Bank                                  27\n",
      "India Bulls                                           21\n",
      "B N P Paribas                                         15\n",
      "Firstrand Bank Limited                                11\n",
      "GIC Housing Finance Ltd                               10\n",
      "Bank of Rajasthan                                      8\n",
      "Kerala Gramin Bank                                     4\n",
      "Industrial And Commercial Bank Of China Limited        3\n",
      "Ahmedabad Mercantile Cooperative Bank                  1\n",
      "Name: Salary_Account, dtype: int64\n",
      "\n",
      "Frequency count for variable Mobile_Verified\n",
      "Y    80928\n",
      "N    43809\n",
      "Name: Mobile_Verified, dtype: int64\n",
      "\n",
      "Frequency count for variable Var1\n",
      "HBXX    84901\n",
      "HBXC    12952\n",
      "HBXB     6502\n",
      "HAXA     4214\n",
      "HBXA     3042\n",
      "HAXB     2879\n",
      "HBXD     2818\n",
      "HAXC     2171\n",
      "HBXH     1387\n",
      "HCXF      990\n",
      "HAYT      710\n",
      "HAVC      570\n",
      "HAXM      386\n",
      "HCXD      348\n",
      "HCYS      318\n",
      "HVYS      252\n",
      "HAZD      161\n",
      "HCXG      114\n",
      "HAXF       22\n",
      "Name: Var1, dtype: int64\n",
      "\n",
      "Frequency count for variable Filled_Form\n",
      "N    96740\n",
      "Y    27997\n",
      "Name: Filled_Form, dtype: int64\n",
      "\n",
      "Frequency count for variable Device_Type\n",
      "Web-browser    92105\n",
      "Mobile         32632\n",
      "Name: Device_Type, dtype: int64\n",
      "\n",
      "Frequency count for variable Var2\n",
      "B    53481\n",
      "G    47338\n",
      "C    20366\n",
      "E     1855\n",
      "D      918\n",
      "F      770\n",
      "A        9\n",
      "Name: Var2, dtype: int64\n",
      "\n",
      "Frequency count for variable Source\n",
      "S122    55249\n",
      "S133    42900\n",
      "S159     7999\n",
      "S143     6140\n",
      "S127     2804\n",
      "S137     2450\n",
      "S134     1900\n",
      "S161     1109\n",
      "S151     1018\n",
      "S157      929\n",
      "S153      705\n",
      "S144      447\n",
      "S156      432\n",
      "S158      294\n",
      "S123      112\n",
      "S141       83\n",
      "S162       60\n",
      "S124       43\n",
      "S150       19\n",
      "S160       11\n",
      "S136        5\n",
      "S138        5\n",
      "S155        5\n",
      "S139        4\n",
      "S129        4\n",
      "S135        2\n",
      "S131        1\n",
      "S130        1\n",
      "S132        1\n",
      "S125        1\n",
      "S140        1\n",
      "S142        1\n",
      "S126        1\n",
      "S154        1\n",
      "Name: Source, dtype: int64\n"
     ]
    }
   ],
   "source": [
    "#Look at categories of all object variables:\n",
    "var = ['Gender','Salary_Account','Mobile_Verified','Var1','Filled_Form','Device_Type','Var2','Source']\n",
    "for v in var:\n",
    "    print '\\nFrequency count for variable %s'%v\n",
    "    print data[v].value_counts()\n"
   ]
  },
  {
   "cell_type": "code",
   "execution_count": 10,
   "metadata": {
    "collapsed": false
   },
   "outputs": [
    {
     "data": {
      "text/html": [
       "<div>\n",
       "<table border=\"1\" class=\"dataframe\">\n",
       "  <thead>\n",
       "    <tr style=\"text-align: right;\">\n",
       "      <th></th>\n",
       "      <th>City</th>\n",
       "      <th>DOB</th>\n",
       "      <th>Device_Type</th>\n",
       "      <th>Disbursed</th>\n",
       "      <th>EMI_Loan_Submitted</th>\n",
       "      <th>Employer_Name</th>\n",
       "      <th>Existing_EMI</th>\n",
       "      <th>Filled_Form</th>\n",
       "      <th>Gender</th>\n",
       "      <th>ID</th>\n",
       "      <th>...</th>\n",
       "      <th>Mobile_Verified</th>\n",
       "      <th>Monthly_Income</th>\n",
       "      <th>Processing_Fee</th>\n",
       "      <th>Salary_Account</th>\n",
       "      <th>Source</th>\n",
       "      <th>Var1</th>\n",
       "      <th>Var2</th>\n",
       "      <th>Var4</th>\n",
       "      <th>Var5</th>\n",
       "      <th>source</th>\n",
       "    </tr>\n",
       "  </thead>\n",
       "  <tbody>\n",
       "    <tr>\n",
       "      <th>0</th>\n",
       "      <td>Delhi</td>\n",
       "      <td>23-May-78</td>\n",
       "      <td>Web-browser</td>\n",
       "      <td>0</td>\n",
       "      <td>NaN</td>\n",
       "      <td>CYBOSOL</td>\n",
       "      <td>0</td>\n",
       "      <td>N</td>\n",
       "      <td>Female</td>\n",
       "      <td>ID000002C20</td>\n",
       "      <td>...</td>\n",
       "      <td>N</td>\n",
       "      <td>20000</td>\n",
       "      <td>NaN</td>\n",
       "      <td>HDFC Bank</td>\n",
       "      <td>S122</td>\n",
       "      <td>HBXX</td>\n",
       "      <td>G</td>\n",
       "      <td>1</td>\n",
       "      <td>0</td>\n",
       "      <td>train</td>\n",
       "    </tr>\n",
       "    <tr>\n",
       "      <th>1</th>\n",
       "      <td>Mumbai</td>\n",
       "      <td>07-Oct-85</td>\n",
       "      <td>Web-browser</td>\n",
       "      <td>0</td>\n",
       "      <td>6762.9</td>\n",
       "      <td>TATA CONSULTANCY SERVICES LTD (TCS)</td>\n",
       "      <td>0</td>\n",
       "      <td>N</td>\n",
       "      <td>Male</td>\n",
       "      <td>ID000004E40</td>\n",
       "      <td>...</td>\n",
       "      <td>Y</td>\n",
       "      <td>35000</td>\n",
       "      <td>NaN</td>\n",
       "      <td>ICICI Bank</td>\n",
       "      <td>S122</td>\n",
       "      <td>HBXA</td>\n",
       "      <td>G</td>\n",
       "      <td>3</td>\n",
       "      <td>13</td>\n",
       "      <td>train</td>\n",
       "    </tr>\n",
       "    <tr>\n",
       "      <th>2</th>\n",
       "      <td>Panchkula</td>\n",
       "      <td>10-Oct-81</td>\n",
       "      <td>Web-browser</td>\n",
       "      <td>0</td>\n",
       "      <td>NaN</td>\n",
       "      <td>ALCHEMIST HOSPITALS LTD</td>\n",
       "      <td>0</td>\n",
       "      <td>N</td>\n",
       "      <td>Male</td>\n",
       "      <td>ID000007H20</td>\n",
       "      <td>...</td>\n",
       "      <td>Y</td>\n",
       "      <td>22500</td>\n",
       "      <td>NaN</td>\n",
       "      <td>State Bank of India</td>\n",
       "      <td>S143</td>\n",
       "      <td>HBXX</td>\n",
       "      <td>B</td>\n",
       "      <td>1</td>\n",
       "      <td>0</td>\n",
       "      <td>train</td>\n",
       "    </tr>\n",
       "    <tr>\n",
       "      <th>3</th>\n",
       "      <td>Saharsa</td>\n",
       "      <td>30-Nov-87</td>\n",
       "      <td>Web-browser</td>\n",
       "      <td>0</td>\n",
       "      <td>NaN</td>\n",
       "      <td>BIHAR GOVERNMENT</td>\n",
       "      <td>0</td>\n",
       "      <td>N</td>\n",
       "      <td>Male</td>\n",
       "      <td>ID000008I30</td>\n",
       "      <td>...</td>\n",
       "      <td>Y</td>\n",
       "      <td>35000</td>\n",
       "      <td>NaN</td>\n",
       "      <td>State Bank of India</td>\n",
       "      <td>S143</td>\n",
       "      <td>HBXX</td>\n",
       "      <td>B</td>\n",
       "      <td>3</td>\n",
       "      <td>10</td>\n",
       "      <td>train</td>\n",
       "    </tr>\n",
       "    <tr>\n",
       "      <th>4</th>\n",
       "      <td>Bengaluru</td>\n",
       "      <td>17-Feb-84</td>\n",
       "      <td>Web-browser</td>\n",
       "      <td>0</td>\n",
       "      <td>NaN</td>\n",
       "      <td>GLOBAL EDGE SOFTWARE</td>\n",
       "      <td>25000</td>\n",
       "      <td>N</td>\n",
       "      <td>Male</td>\n",
       "      <td>ID000009J40</td>\n",
       "      <td>...</td>\n",
       "      <td>Y</td>\n",
       "      <td>100000</td>\n",
       "      <td>NaN</td>\n",
       "      <td>HDFC Bank</td>\n",
       "      <td>S134</td>\n",
       "      <td>HBXX</td>\n",
       "      <td>B</td>\n",
       "      <td>3</td>\n",
       "      <td>17</td>\n",
       "      <td>train</td>\n",
       "    </tr>\n",
       "  </tbody>\n",
       "</table>\n",
       "<p>5 rows × 27 columns</p>\n",
       "</div>"
      ],
      "text/plain": [
       "        City        DOB  Device_Type  Disbursed  EMI_Loan_Submitted  \\\n",
       "0      Delhi  23-May-78  Web-browser          0                 NaN   \n",
       "1     Mumbai  07-Oct-85  Web-browser          0              6762.9   \n",
       "2  Panchkula  10-Oct-81  Web-browser          0                 NaN   \n",
       "3    Saharsa  30-Nov-87  Web-browser          0                 NaN   \n",
       "4  Bengaluru  17-Feb-84  Web-browser          0                 NaN   \n",
       "\n",
       "                         Employer_Name  Existing_EMI Filled_Form  Gender  \\\n",
       "0                              CYBOSOL             0           N  Female   \n",
       "1  TATA CONSULTANCY SERVICES LTD (TCS)             0           N    Male   \n",
       "2              ALCHEMIST HOSPITALS LTD             0           N    Male   \n",
       "3                     BIHAR GOVERNMENT             0           N    Male   \n",
       "4                 GLOBAL EDGE SOFTWARE         25000           N    Male   \n",
       "\n",
       "            ID   ...    Mobile_Verified Monthly_Income  Processing_Fee  \\\n",
       "0  ID000002C20   ...                  N          20000             NaN   \n",
       "1  ID000004E40   ...                  Y          35000             NaN   \n",
       "2  ID000007H20   ...                  Y          22500             NaN   \n",
       "3  ID000008I30   ...                  Y          35000             NaN   \n",
       "4  ID000009J40   ...                  Y         100000             NaN   \n",
       "\n",
       "        Salary_Account  Source  Var1  Var2 Var4  Var5  source  \n",
       "0            HDFC Bank    S122  HBXX     G    1     0   train  \n",
       "1           ICICI Bank    S122  HBXA     G    3    13   train  \n",
       "2  State Bank of India    S143  HBXX     B    1     0   train  \n",
       "3  State Bank of India    S143  HBXX     B    3    10   train  \n",
       "4            HDFC Bank    S134  HBXX     B    3    17   train  \n",
       "\n",
       "[5 rows x 27 columns]"
      ]
     },
     "execution_count": 10,
     "metadata": {},
     "output_type": "execute_result"
    }
   ],
   "source": [
    "data.head()"
   ]
  },
  {
   "cell_type": "markdown",
   "metadata": {},
   "source": [
    "### Handle Individual Variables:\n",
    "#### City Variable:\n"
   ]
  },
  {
   "cell_type": "code",
   "execution_count": 11,
   "metadata": {
    "collapsed": true
   },
   "outputs": [],
   "source": [
    "len(data['City'].unique())\n",
    "#drop city because too many unique\n",
    "data.drop('City',axis=1,inplace=True)\n"
   ]
  },
  {
   "cell_type": "code",
   "execution_count": 12,
   "metadata": {
    "collapsed": false
   },
   "outputs": [
    {
     "data": {
      "text/plain": [
       "0    23-May-78\n",
       "1    07-Oct-85\n",
       "2    10-Oct-81\n",
       "3    30-Nov-87\n",
       "4    17-Feb-84\n",
       "Name: DOB, dtype: object"
      ]
     },
     "execution_count": 12,
     "metadata": {},
     "output_type": "execute_result"
    }
   ],
   "source": [
    "## Determine Age from DOB\n",
    "data['DOB'].head()"
   ]
  },
  {
   "cell_type": "code",
   "execution_count": 35,
   "metadata": {
    "collapsed": false
   },
   "outputs": [
    {
     "data": {
      "text/plain": [
       "0    37\n",
       "1    30\n",
       "2    34\n",
       "3    28\n",
       "4    31\n",
       "Name: Age, dtype: int64"
      ]
     },
     "execution_count": 35,
     "metadata": {},
     "output_type": "execute_result"
    }
   ],
   "source": [
    "#Create age variable:\n",
    "data['Age'] = data['DOB'].apply(lambda x: 115 - int(x[-2:]))\n",
    "data['Age'].head()\n"
   ]
  },
  {
   "cell_type": "code",
   "execution_count": 63,
   "metadata": {
    "collapsed": false
   },
   "outputs": [],
   "source": [
    "#p=[]\n",
    "#for i in np.array(data['DOB']):\n",
    "#    p.append(i[-2:])\n",
    "#p[0:9]    "
   ]
  },
  {
   "cell_type": "code",
   "execution_count": 64,
   "metadata": {
    "collapsed": false
   },
   "outputs": [],
   "source": [
    "#drop DOB:\n",
    "data.drop('DOB',axis=1,inplace=True)\n"
   ]
  },
  {
   "cell_type": "code",
   "execution_count": 65,
   "metadata": {
    "collapsed": false
   },
   "outputs": [
    {
     "data": {
      "text/plain": [
       "<matplotlib.axes._subplots.AxesSubplot at 0x150849e8>"
      ]
     },
     "execution_count": 65,
     "metadata": {},
     "output_type": "execute_result"
    },
    {
     "data": {
      "image/png": "[encoded data removed]",
      "text/plain": [
       "<matplotlib.figure.Figure at 0xc0b5be0>"
      ]
     },
     "metadata": {},
     "output_type": "display_data"
    }
   ],
   "source": [
    "#EMI_Load_Submitted\n",
    "data.boxplot(column=['EMI_Loan_Submitted'],return_type='axes')\n"
   ]
  },
  {
   "cell_type": "code",
   "execution_count": 66,
   "metadata": {
    "collapsed": false
   },
   "outputs": [
    {
     "data": {
      "text/html": [
       "<div>\n",
       "<table border=\"1\" class=\"dataframe\">\n",
       "  <thead>\n",
       "    <tr style=\"text-align: right;\">\n",
       "      <th></th>\n",
       "      <th>EMI_Loan_Submitted</th>\n",
       "      <th>EMI_Loan_Submitted_Missing</th>\n",
       "    </tr>\n",
       "  </thead>\n",
       "  <tbody>\n",
       "    <tr>\n",
       "      <th>0</th>\n",
       "      <td>NaN</td>\n",
       "      <td>1</td>\n",
       "    </tr>\n",
       "    <tr>\n",
       "      <th>1</th>\n",
       "      <td>6762.90</td>\n",
       "      <td>0</td>\n",
       "    </tr>\n",
       "    <tr>\n",
       "      <th>2</th>\n",
       "      <td>NaN</td>\n",
       "      <td>1</td>\n",
       "    </tr>\n",
       "    <tr>\n",
       "      <th>3</th>\n",
       "      <td>NaN</td>\n",
       "      <td>1</td>\n",
       "    </tr>\n",
       "    <tr>\n",
       "      <th>4</th>\n",
       "      <td>NaN</td>\n",
       "      <td>1</td>\n",
       "    </tr>\n",
       "    <tr>\n",
       "      <th>5</th>\n",
       "      <td>6978.92</td>\n",
       "      <td>0</td>\n",
       "    </tr>\n",
       "    <tr>\n",
       "      <th>6</th>\n",
       "      <td>NaN</td>\n",
       "      <td>1</td>\n",
       "    </tr>\n",
       "    <tr>\n",
       "      <th>7</th>\n",
       "      <td>NaN</td>\n",
       "      <td>1</td>\n",
       "    </tr>\n",
       "    <tr>\n",
       "      <th>8</th>\n",
       "      <td>30824.65</td>\n",
       "      <td>0</td>\n",
       "    </tr>\n",
       "    <tr>\n",
       "      <th>9</th>\n",
       "      <td>10883.38</td>\n",
       "      <td>0</td>\n",
       "    </tr>\n",
       "  </tbody>\n",
       "</table>\n",
       "</div>"
      ],
      "text/plain": [
       "   EMI_Loan_Submitted  EMI_Loan_Submitted_Missing\n",
       "0                 NaN                           1\n",
       "1             6762.90                           0\n",
       "2                 NaN                           1\n",
       "3                 NaN                           1\n",
       "4                 NaN                           1\n",
       "5             6978.92                           0\n",
       "6                 NaN                           1\n",
       "7                 NaN                           1\n",
       "8            30824.65                           0\n",
       "9            10883.38                           0"
      ]
     },
     "execution_count": 66,
     "metadata": {},
     "output_type": "execute_result"
    }
   ],
   "source": [
    "#Majority values missing so I'll create a new variable stating whether this is missing or note:\n",
    "data['EMI_Loan_Submitted_Missing'] = data['EMI_Loan_Submitted'].apply(lambda x: 1 if pd.isnull(x) else 0)\n",
    "data[['EMI_Loan_Submitted','EMI_Loan_Submitted_Missing']].head(10)\n"
   ]
  },
  {
   "cell_type": "code",
   "execution_count": 67,
   "metadata": {
    "collapsed": true
   },
   "outputs": [],
   "source": [
    "#drop original vaiables:\n",
    "data.drop('EMI_Loan_Submitted',axis=1,inplace=True)\n"
   ]
  },
  {
   "cell_type": "code",
   "execution_count": 68,
   "metadata": {
    "collapsed": false
   },
   "outputs": [
    {
     "data": {
      "text/plain": [
       "57193"
      ]
     },
     "execution_count": 68,
     "metadata": {},
     "output_type": "execute_result"
    }
   ],
   "source": [
    "##Employer Name\n",
    "len(data['Employer_Name'].value_counts())\n"
   ]
  },
  {
   "cell_type": "code",
   "execution_count": 69,
   "metadata": {
    "collapsed": true
   },
   "outputs": [],
   "source": [
    "#I'll drop the variable because too many unique values. Another option could be to categorize them manually\n",
    "data.drop('Employer_Name',axis=1,inplace=True)"
   ]
  },
  {
   "cell_type": "code",
   "execution_count": 70,
   "metadata": {
    "collapsed": false
   },
   "outputs": [
    {
     "data": {
      "text/plain": [
       "<matplotlib.axes._subplots.AxesSubplot at 0x72ac5f8>"
      ]
     },
     "execution_count": 70,
     "metadata": {},
     "output_type": "execute_result"
    },
    {
     "data": {
      "image/png": "[encoded data removed]",
      "text/plain": [
       "<matplotlib.figure.Figure at 0xd5db550>"
      ]
     },
     "metadata": {},
     "output_type": "display_data"
    }
   ],
   "source": [
    "## Existing EMI\n",
    "data.boxplot(column='Existing_EMI',return_type='axes')\n"
   ]
  },
  {
   "cell_type": "code",
   "execution_count": 71,
   "metadata": {
    "collapsed": false
   },
   "outputs": [
    {
     "data": {
      "text/plain": [
       "count      124626.000000\n",
       "mean         3636.342492\n",
       "std         33691.240042\n",
       "min             0.000000\n",
       "25%             0.000000\n",
       "50%             0.000000\n",
       "75%          3500.000000\n",
       "max      10000000.000000\n",
       "Name: Existing_EMI, dtype: float64"
      ]
     },
     "execution_count": 71,
     "metadata": {},
     "output_type": "execute_result"
    }
   ],
   "source": [
    "data['Existing_EMI'].describe()"
   ]
  },
  {
   "cell_type": "code",
   "execution_count": 72,
   "metadata": {
    "collapsed": true
   },
   "outputs": [],
   "source": [
    "#Impute by median (0) because just 111 missing:\n",
    "data['Existing_EMI'].fillna(0, inplace=True)"
   ]
  },
  {
   "cell_type": "code",
   "execution_count": 74,
   "metadata": {
    "collapsed": false
   },
   "outputs": [
    {
     "data": {
      "text/html": [
       "<div>\n",
       "<table border=\"1\" class=\"dataframe\">\n",
       "  <thead>\n",
       "    <tr style=\"text-align: right;\">\n",
       "      <th></th>\n",
       "      <th>Interest_Rate</th>\n",
       "      <th>Interest_Rate_Missing</th>\n",
       "    </tr>\n",
       "  </thead>\n",
       "  <tbody>\n",
       "    <tr>\n",
       "      <th>0</th>\n",
       "      <td>NaN</td>\n",
       "      <td>1</td>\n",
       "    </tr>\n",
       "    <tr>\n",
       "      <th>1</th>\n",
       "      <td>13.25</td>\n",
       "      <td>0</td>\n",
       "    </tr>\n",
       "    <tr>\n",
       "      <th>2</th>\n",
       "      <td>NaN</td>\n",
       "      <td>1</td>\n",
       "    </tr>\n",
       "    <tr>\n",
       "      <th>3</th>\n",
       "      <td>NaN</td>\n",
       "      <td>1</td>\n",
       "    </tr>\n",
       "    <tr>\n",
       "      <th>4</th>\n",
       "      <td>NaN</td>\n",
       "      <td>1</td>\n",
       "    </tr>\n",
       "    <tr>\n",
       "      <th>5</th>\n",
       "      <td>13.99</td>\n",
       "      <td>0</td>\n",
       "    </tr>\n",
       "    <tr>\n",
       "      <th>6</th>\n",
       "      <td>NaN</td>\n",
       "      <td>1</td>\n",
       "    </tr>\n",
       "    <tr>\n",
       "      <th>7</th>\n",
       "      <td>NaN</td>\n",
       "      <td>1</td>\n",
       "    </tr>\n",
       "    <tr>\n",
       "      <th>8</th>\n",
       "      <td>14.85</td>\n",
       "      <td>0</td>\n",
       "    </tr>\n",
       "    <tr>\n",
       "      <th>9</th>\n",
       "      <td>18.25</td>\n",
       "      <td>0</td>\n",
       "    </tr>\n",
       "  </tbody>\n",
       "</table>\n",
       "</div>"
      ],
      "text/plain": [
       "   Interest_Rate  Interest_Rate_Missing\n",
       "0            NaN                      1\n",
       "1          13.25                      0\n",
       "2            NaN                      1\n",
       "3            NaN                      1\n",
       "4            NaN                      1\n",
       "5          13.99                      0\n",
       "6            NaN                      1\n",
       "7            NaN                      1\n",
       "8          14.85                      0\n",
       "9          18.25                      0"
      ]
     },
     "execution_count": 74,
     "metadata": {},
     "output_type": "execute_result"
    }
   ],
   "source": [
    "# Interest Rate:\n",
    "# Majority values missing so I'll create a new variable stating whether this is missing or note:\n",
    "data['Interest_Rate_Missing'] = data['Interest_Rate'].apply(lambda x: 1 if pd.isnull(x) else 0)\n",
    "data[['Interest_Rate','Interest_Rate_Missing']].head(10)"
   ]
  },
  {
   "cell_type": "code",
   "execution_count": 75,
   "metadata": {
    "collapsed": true
   },
   "outputs": [],
   "source": [
    "data.drop('Interest_Rate',axis=1,inplace=True)"
   ]
  },
  {
   "cell_type": "code",
   "execution_count": 76,
   "metadata": {
    "collapsed": true
   },
   "outputs": [],
   "source": [
    "#Lead Creation Date:\n",
    "#Drop this variable because doesn't appear to affect much intuitively\n",
    "data.drop('Lead_Creation_Date',axis=1,inplace=True)\n"
   ]
  },
  {
   "cell_type": "code",
   "execution_count": 78,
   "metadata": {
    "collapsed": true
   },
   "outputs": [],
   "source": [
    "#Loan Amount and Tenure applied:\n",
    "#Impute with median because only 111 missing:\n",
    "data['Loan_Amount_Applied'].fillna(data['Loan_Amount_Applied'].median(),inplace=True)\n",
    "data['Loan_Tenure_Applied'].fillna(data['Loan_Tenure_Applied'].median(),inplace=True)"
   ]
  },
  {
   "cell_type": "code",
   "execution_count": 79,
   "metadata": {
    "collapsed": true
   },
   "outputs": [],
   "source": [
    "# Loan Amount and Tenure submitted\n",
    "#High proportion missing so create a new var whether present or not\n",
    "data['Loan_Amount_Submitted_Missing'] = data['Loan_Amount_Submitted'].apply(lambda x: 1 if pd.isnull(x) else 0)\n",
    "data['Loan_Tenure_Submitted_Missing'] = data['Loan_Tenure_Submitted'].apply(lambda x: 1 if pd.isnull(x) else 0)\n"
   ]
  },
  {
   "cell_type": "code",
   "execution_count": 80,
   "metadata": {
    "collapsed": true
   },
   "outputs": [],
   "source": [
    "#Remove old vars\n",
    "data.drop(['Loan_Amount_Submitted','Loan_Tenure_Submitted'],axis=1,inplace=True)\n"
   ]
  },
  {
   "cell_type": "code",
   "execution_count": 81,
   "metadata": {
    "collapsed": true
   },
   "outputs": [],
   "source": [
    "# Remove logged-in\n",
    "data.drop('LoggedIn',axis=1,inplace=True)\n"
   ]
  },
  {
   "cell_type": "code",
   "execution_count": 82,
   "metadata": {
    "collapsed": true
   },
   "outputs": [],
   "source": [
    "#Remove salary account\n",
    "#Salary account has mnay banks which have to be manually grouped\n",
    "data.drop('Salary_Account',axis=1,inplace=True)\n"
   ]
  },
  {
   "cell_type": "code",
   "execution_count": 83,
   "metadata": {
    "collapsed": true
   },
   "outputs": [],
   "source": [
    "#Processing_Fee\n",
    "#High proportion missing so create a new var whether present or not\n",
    "data['Processing_Fee_Missing'] = data['Processing_Fee'].apply(lambda x: 1 if pd.isnull(x) else 0)\n",
    "#drop old\n",
    "data.drop('Processing_Fee',axis=1,inplace=True)"
   ]
  },
  {
   "cell_type": "code",
   "execution_count": 84,
   "metadata": {
    "collapsed": false
   },
   "outputs": [
    {
     "data": {
      "text/plain": [
       "S122      55249\n",
       "S133      42900\n",
       "others    26588\n",
       "Name: Source, dtype: int64"
      ]
     },
     "execution_count": 84,
     "metadata": {},
     "output_type": "execute_result"
    }
   ],
   "source": [
    "## Source\n",
    "data['Source'] = data['Source'].apply(lambda x: 'others' if x not in ['S122','S133'] else x)\n",
    "data['Source'].value_counts()\n"
   ]
  },
  {
   "cell_type": "code",
   "execution_count": 85,
   "metadata": {
    "collapsed": false
   },
   "outputs": [
    {
     "data": {
      "text/plain": [
       "Device_Type                          0\n",
       "Disbursed                        37717\n",
       "Existing_EMI                         0\n",
       "Filled_Form                          0\n",
       "Gender                               0\n",
       "ID                                   0\n",
       "Loan_Amount_Applied                  0\n",
       "Loan_Tenure_Applied                  0\n",
       "Mobile_Verified                      0\n",
       "Monthly_Income                       0\n",
       "Source                               0\n",
       "Var1                                 0\n",
       "Var2                                 0\n",
       "Var4                                 0\n",
       "Var5                                 0\n",
       "source                               0\n",
       "Age                                  0\n",
       "EMI_Loan_Submitted_Missing           0\n",
       "Interest_Rate_Missing                0\n",
       "Loan_Amount_Submitted_Missing        0\n",
       "Loan_Tenure_Submitted_Missing        0\n",
       "Processing_Fee_Missing               0\n",
       "dtype: int64"
      ]
     },
     "execution_count": 85,
     "metadata": {},
     "output_type": "execute_result"
    }
   ],
   "source": [
    "## Final Data:\n",
    "data.apply(lambda x: sum(x.isnull()))"
   ]
  },
  {
   "cell_type": "code",
   "execution_count": 86,
   "metadata": {
    "collapsed": false
   },
   "outputs": [
    {
     "data": {
      "text/plain": [
       "Device_Type                       object\n",
       "Disbursed                        float64\n",
       "Existing_EMI                     float64\n",
       "Filled_Form                       object\n",
       "Gender                            object\n",
       "ID                                object\n",
       "Loan_Amount_Applied              float64\n",
       "Loan_Tenure_Applied              float64\n",
       "Mobile_Verified                   object\n",
       "Monthly_Income                     int64\n",
       "Source                            object\n",
       "Var1                              object\n",
       "Var2                              object\n",
       "Var4                               int64\n",
       "Var5                               int64\n",
       "source                            object\n",
       "Age                                int64\n",
       "EMI_Loan_Submitted_Missing         int64\n",
       "Interest_Rate_Missing              int64\n",
       "Loan_Amount_Submitted_Missing      int64\n",
       "Loan_Tenure_Submitted_Missing      int64\n",
       "Processing_Fee_Missing             int64\n",
       "dtype: object"
      ]
     },
     "execution_count": 86,
     "metadata": {},
     "output_type": "execute_result"
    }
   ],
   "source": [
    "data.dtypes"
   ]
  },
  {
   "cell_type": "code",
   "execution_count": 87,
   "metadata": {
    "collapsed": true
   },
   "outputs": [],
   "source": [
    "## Numerical Coding:\n",
    "from sklearn.preprocessing import LabelEncoder\n",
    "le = LabelEncoder()\n",
    "var_to_encode = ['Device_Type','Filled_Form','Gender','Var1','Var2','Mobile_Verified','Source']\n",
    "for col in var_to_encode:\n",
    "    data[col] = le.fit_transform(data[col])\n"
   ]
  },
  {
   "cell_type": "code",
   "execution_count": 88,
   "metadata": {
    "collapsed": false
   },
   "outputs": [
    {
     "data": {
      "text/plain": [
       "Index([u'Disbursed', u'Existing_EMI', u'ID', u'Loan_Amount_Applied',\n",
       "       u'Loan_Tenure_Applied', u'Monthly_Income', u'Var4', u'Var5', u'source',\n",
       "       u'Age', u'EMI_Loan_Submitted_Missing', u'Interest_Rate_Missing',\n",
       "       u'Loan_Amount_Submitted_Missing', u'Loan_Tenure_Submitted_Missing',\n",
       "       u'Processing_Fee_Missing', u'Device_Type_0', u'Device_Type_1',\n",
       "       u'Filled_Form_0', u'Filled_Form_1', u'Gender_0', u'Gender_1', u'Var1_0',\n",
       "       u'Var1_1', u'Var1_2', u'Var1_3', u'Var1_4', u'Var1_5', u'Var1_6',\n",
       "       u'Var1_7', u'Var1_8', u'Var1_9', u'Var1_10', u'Var1_11', u'Var1_12',\n",
       "       u'Var1_13', u'Var1_14', u'Var1_15', u'Var1_16', u'Var1_17', u'Var1_18',\n",
       "       u'Var2_0', u'Var2_1', u'Var2_2', u'Var2_3', u'Var2_4', u'Var2_5',\n",
       "       u'Var2_6', u'Mobile_Verified_0', u'Mobile_Verified_1', u'Source_0',\n",
       "       u'Source_1', u'Source_2'],\n",
       "      dtype='object')"
      ]
     },
     "execution_count": 88,
     "metadata": {},
     "output_type": "execute_result"
    }
   ],
   "source": [
    "#One-Hot Coding\n",
    "\n",
    "data = pd.get_dummies(data, columns=var_to_encode)\n",
    "data.columns\n"
   ]
  },
  {
   "cell_type": "code",
   "execution_count": 89,
   "metadata": {
    "collapsed": true
   },
   "outputs": [],
   "source": [
    "#Separate train & test:\n",
    "train1 = data.loc[data['source']=='train']\n",
    "test1 = data.loc[data['source']=='test']\n"
   ]
  },
  {
   "cell_type": "code",
   "execution_count": 90,
   "metadata": {
    "collapsed": false
   },
   "outputs": [
    {
     "name": "stderr",
     "output_type": "stream",
     "text": [
      "C:\\Users\\paushali\\Anaconda\\envs\\dato-env\\lib\\site-packages\\ipykernel\\__main__.py:1: SettingWithCopyWarning: \n",
      "A value is trying to be set on a copy of a slice from a DataFrame\n",
      "\n",
      "See the caveats in the documentation: http://pandas.pydata.org/pandas-docs/stable/indexing.html#indexing-view-versus-copy\n",
      "  if __name__ == '__main__':\n",
      "C:\\Users\\paushali\\Anaconda\\envs\\dato-env\\lib\\site-packages\\ipykernel\\__main__.py:2: SettingWithCopyWarning: \n",
      "A value is trying to be set on a copy of a slice from a DataFrame\n",
      "\n",
      "See the caveats in the documentation: http://pandas.pydata.org/pandas-docs/stable/indexing.html#indexing-view-versus-copy\n",
      "  from ipykernel import kernelapp as app\n"
     ]
    }
   ],
   "source": [
    "train1.drop('source',axis=1,inplace=True)\n",
    "test1.drop(['source','Disbursed'],axis=1,inplace=True)\n"
   ]
  },
  {
   "cell_type": "code",
   "execution_count": 91,
   "metadata": {
    "collapsed": true
   },
   "outputs": [],
   "source": [
    "train1.to_csv('train_modified.csv',index=False)\n",
    "test1.to_csv('test_modified.csv',index=False)\n"
   ]
  },
  {
   "cell_type": "markdown",
   "metadata": {},
   "source": [
    "### GBM Discussion"
   ]
  },
  {
   "cell_type": "code",
   "execution_count": 93,
   "metadata": {
    "collapsed": true
   },
   "outputs": [],
   "source": [
    "# The matplotlibrc file\n",
    "# matplotlib uses matplotlibrc configuration files to customize all kinds of properties, which we call rc settings or \n",
    "# rc parameters. You can control the defaults of almost every property in matplotlib: figure size and dpi, line width, color \n",
    "#and style, axes, axis and grid properties, text and font properties and so on. #figure.figsize: 8, 6  # figure size in inches\n",
    "## Import Libraries:\n",
    "import pandas as pd\n",
    "import numpy as np\n",
    "from sklearn.ensemble import GradientBoostingClassifier\n",
    "from sklearn import cross_validation, metrics\n",
    "from sklearn.grid_search import GridSearchCV\n",
    "\n",
    "import matplotlib.pylab as plt\n",
    "%matplotlib inline\n",
    "from matplotlib.pylab import rcParams\n",
    "rcParams['figure.figsize'] = 12, 4\n"
   ]
  },
  {
   "cell_type": "markdown",
   "metadata": {},
   "source": [
    "#### Load Data:\n",
    "The data has gone through following pre-processing:\n",
    "1.\tCity variable dropped because of too many categories\n",
    "2.\tDOB converted to Age | DOB dropped\n",
    "3.\tEMI_Loan_Submitted_Missing created which is 1 if EMI_Loan_Submitted was missing else 0 | EMI_Loan_Submitted dropped\n",
    "4.\tEmployerName dropped because of too many categories\n",
    "5.\tExisting_EMI imputed with 0 (median) - 111 values were missing\n",
    "6.\tInterest_Rate_Missing created which is 1 if Interest_Rate was missing else 0 | Interest_Rate dropped\n",
    "7.\tLead_Creation_Date dropped because made little intuitive impact on outcome\n",
    "8.\tLoan_Amount_Applied, Loan_Tenure_Applied imputed with missing\n",
    "9.\tLoan_Amount_Submitted_Missing created which is 1 if Loan_Amount_Submitted was missing else 0 | Loan_Amount_Submitted dropped\n",
    "10.\tLoan_Tenure_Submitted_Missing created which is 1 if Loan_Tenure_Submitted was missing else 0 | Loan_Tenure_Submitted dropped\n",
    "11.\tLoggedIn, Salary_Account removed\n",
    "12.\tProcessing_Fee_Missing created which is 1 if Processing_Fee was missing else 0 | Processing_Fee dropped\n",
    "13.\tSource - top 2 kept as is and all others combined into different category\n",
    "14.\tNumerical and One-Hot-Coding performed\n"
   ]
  },
  {
   "cell_type": "code",
   "execution_count": 94,
   "metadata": {
    "collapsed": true
   },
   "outputs": [],
   "source": [
    "train = pd.read_csv('train_modified.csv')"
   ]
  },
  {
   "cell_type": "code",
   "execution_count": 95,
   "metadata": {
    "collapsed": true
   },
   "outputs": [],
   "source": [
    "target='Disbursed'\n",
    "IDcol = 'ID'"
   ]
  },
  {
   "cell_type": "code",
   "execution_count": 96,
   "metadata": {
    "collapsed": false
   },
   "outputs": [
    {
     "data": {
      "text/plain": [
       "0    85747\n",
       "1     1273\n",
       "Name: Disbursed, dtype: int64"
      ]
     },
     "execution_count": 96,
     "metadata": {},
     "output_type": "execute_result"
    }
   ],
   "source": [
    "train['Disbursed'].value_counts()"
   ]
  },
  {
   "cell_type": "markdown",
   "metadata": {},
   "source": [
    "### Define a function for modeling and cross-validation\n",
    "This function will do the following:\n",
    "1.\tfit the model\n",
    "2.\tdetermine training accuracy\n",
    "3.\tdetermine training AUC\n",
    "4.\tdetermine testing AUC\n",
    "5.\tperform CV if performCV is True\n",
    "6.\tplot Feature Importance if printFeatureImportance is True\n"
   ]
  },
  {
   "cell_type": "code",
   "execution_count": 98,
   "metadata": {
    "collapsed": true
   },
   "outputs": [],
   "source": [
    "def modelfit(alg, dtrain, dtest, predictors, performCV=True, printFeatureImportance=True, cv_folds=5):\n",
    "    #Fit the algorithm on the data\n",
    "    alg.fit(dtrain[predictors], dtrain['Disbursed'])\n",
    "        \n",
    "    #Predict training set:\n",
    "    dtrain_predictions = alg.predict(dtrain[predictors])\n",
    "    dtrain_predprob = alg.predict_proba(dtrain[predictors])[:,1]\n",
    "    \n",
    "    #Perform cross-validation:\n",
    "    if performCV:\n",
    "        cv_score = cross_validation.cross_val_score(alg, dtrain[predictors], dtrain['Disbursed'], cv=cv_folds, scoring='roc_auc')\n",
    "    \n",
    "    #Print model report:\n",
    "    print \"\\nModel Report\"\n",
    "    print \"Accuracy : %.4g\" % metrics.accuracy_score(dtrain['Disbursed'].values, dtrain_predictions)\n",
    "    print \"AUC Score (Train): %f\" % metrics.roc_auc_score(dtrain['Disbursed'], dtrain_predprob)\n",
    "    \n",
    "    if performCV:\n",
    "        print \"CV Score : Mean - %.7g | Std - %.7g | Min - %.7g | Max - %.7g\" % (np.mean(cv_score),np.std(cv_score),np.min(cv_score),np.max(cv_score))\n",
    "                \n",
    "    #Print Feature Importance:\n",
    "    if printFeatureImportance:\n",
    "        feat_imp = pd.Series(alg.feature_importances_, predictors).sort_values(ascending=False)\n",
    "        feat_imp.plot(kind='bar', title='Feature Importances')\n",
    "        plt.ylabel('Feature Importance Score')\n"
   ]
  },
  {
   "cell_type": "markdown",
   "metadata": {},
   "source": [
    "### Baseline Model\n",
    "Since here the criteria is AUC, simply predicting the most prominent class would give an AUC of 0.5 always. \n",
    "Another way of getting a baseline model is to use the algorithm without tuning, i.e. with default parameters.\n"
   ]
  },
  {
   "cell_type": "code",
   "execution_count": 100,
   "metadata": {
    "collapsed": false
   },
   "outputs": [
    {
     "name": "stdout",
     "output_type": "stream",
     "text": [
      "\n",
      "Model Report\n",
      "Accuracy : 0.9856\n",
      "AUC Score (Train): 0.862264\n",
      "CV Score : Mean - 0.8318565 | Std - 0.008760341 | Min - 0.820805 | Max - 0.8438499\n"
     ]
    },
    {
     "data": {
      "image/png": "[encoded data removed]",
      "text/plain": [
       "<matplotlib.figure.Figure at 0x65e70b8>"
      ]
     },
     "metadata": {},
     "output_type": "display_data"
    }
   ],
   "source": [
    "#Choose all predictors except target & IDcols\n",
    "predictors = [x for x in train.columns if x not in [target, IDcol]]\n",
    "gbm0 = GradientBoostingClassifier(random_state=10)\n",
    "modelfit(gbm0, train, test, predictors)\n"
   ]
  },
  {
   "cell_type": "markdown",
   "metadata": {},
   "source": [
    "### GBM Models:\n",
    "There 2 types of parameters here:\n",
    "1.\tTree-specific parameters\n",
    "•\tmin_samples_split\n",
    "•\tmin_samples_leaf\n",
    "•\tmax_depth\n",
    "•\tmin_leaf_nodes\n",
    "•\tmax_features\n",
    "•\tloss function\n",
    "2.\tBoosting specific paramters\n",
    "•\tn_estimators\n",
    "•\tlearning_rate\n",
    "•\tsubsample\n",
    "\n",
    "### Approach for tackling the problem\n",
    "1.\tDecide a relatively higher value for learning rate and tune the number of estimators requried for that.\n",
    "2.\tTune the tree specific parameters for that learning rate\n",
    "3.\tTune subsample\n",
    "4.\tLower learning rate as much as possible computationally and increase the number of estimators accordingly.\n"
   ]
  },
  {
   "cell_type": "markdown",
   "metadata": {},
   "source": [
    "#### Step 1- Find the number of estimators for a high learning rate\n",
    "We will use the following benchmarks for parameters:\n",
    "1.\tmin_samples_split = 500 : ~0.5-1% of total values. Since this is imbalanced class problem, we'll take small value\n",
    "2.\tmin_samples_leaf = 50 : Just using for preventing overfitting. will be tuned later.\n",
    "3.\tmax_depth = 8 : since high number of observations and predictors, choose relatively high value\n",
    "4.\tmax_features = 'sqrt' : general thumbrule to start with\n",
    "5.\tsubsample = 0.8 : typically used value (will be tuned later)\n",
    "0.1 is assumed to be a good learning rate to start with. Let's try to find the optimum number of estimators requried for this.\n"
   ]
  },
  {
   "cell_type": "code",
   "execution_count": 104,
   "metadata": {
    "collapsed": false
   },
   "outputs": [
    {
     "data": {
      "text/plain": [
       "GridSearchCV(cv=5, error_score='raise',\n",
       "       estimator=GradientBoostingClassifier(init=None, learning_rate=0.1, loss='deviance',\n",
       "              max_depth=8, max_features='sqrt', max_leaf_nodes=None,\n",
       "              min_samples_leaf=50, min_samples_split=500,\n",
       "              min_weight_fraction_leaf=0.0, n_estimators=100,\n",
       "              random_state=10, subsample=0.8, verbose=0, warm_start=False),\n",
       "       fit_params={}, iid=False, loss_func=None, n_jobs=4,\n",
       "       param_grid={'n_estimators': [20, 30, 40, 50, 60, 70, 80]},\n",
       "       pre_dispatch='2*n_jobs', refit=True, score_func=None,\n",
       "       scoring='roc_auc', verbose=0)"
      ]
     },
     "execution_count": 104,
     "metadata": {},
     "output_type": "execute_result"
    }
   ],
   "source": [
    "#range(20,81,10)\n",
    "#[20, 30, 40, 50, 60, 70, 80]\n",
    "#Choose all predictors except target & IDcols\n",
    "predictors = [x for x in train.columns if x not in [target, IDcol]]\n",
    "param_test1 = {'n_estimators':range(20,81,10)}\n",
    "gsearch1 = GridSearchCV(estimator = GradientBoostingClassifier(learning_rate=0.1, min_samples_split=500,\n",
    "                                  min_samples_leaf=50,max_depth=8,max_features='sqrt', subsample=0.8,random_state=10), \n",
    "                       param_grid = param_test1, scoring='roc_auc',n_jobs=4,iid=False, cv=5)\n",
    "gsearch1.fit(train[predictors],train[target])\n"
   ]
  },
  {
   "cell_type": "code",
   "execution_count": 105,
   "metadata": {
    "collapsed": false
   },
   "outputs": [
    {
     "data": {
      "text/plain": [
       "([mean: 0.83296, std: 0.01067, params: {'n_estimators': 20},\n",
       "  mean: 0.83574, std: 0.00943, params: {'n_estimators': 30},\n",
       "  mean: 0.83679, std: 0.00936, params: {'n_estimators': 40},\n",
       "  mean: 0.83778, std: 0.00953, params: {'n_estimators': 50},\n",
       "  mean: 0.83761, std: 0.00925, params: {'n_estimators': 60},\n",
       "  mean: 0.83814, std: 0.00967, params: {'n_estimators': 70},\n",
       "  mean: 0.83734, std: 0.00937, params: {'n_estimators': 80}],\n",
       " {'n_estimators': 70},\n",
       " 0.83814477201532223)"
      ]
     },
     "execution_count": 105,
     "metadata": {},
     "output_type": "execute_result"
    }
   ],
   "source": [
    "gsearch1.grid_scores_, gsearch1.best_params_, gsearch1.best_score_"
   ]
  },
  {
   "cell_type": "markdown",
   "metadata": {},
   "source": [
    "So we got 70 as the optimal estimators for the 0.1 learning rate. Note that 70 is a reasonable value and can be used as it is. \n",
    "But it might not be the same in all cases. Other situations:\n",
    "1.\tIf the value is around 20, you might want to try lowering the learning rate to 0.05 and re-run grid search\n",
    "2.\tIf the values are too high ~100, tuning the other parameters will take long time and you can try a higher learning rate\n"
   ]
  },
  {
   "cell_type": "markdown",
   "metadata": {},
   "source": [
    "### Step 2- Tune tree-specific parameters\n",
    "Now, lets move onto tuning the tree parameters. We will do this in 2 stages:\n",
    "1.\tTune max_depth and num_samples_split\n",
    "2.\tTune min_samples_leaf\n",
    "3.\tTune max_features\n"
   ]
  },
  {
   "cell_type": "code",
   "execution_count": 112,
   "metadata": {
    "collapsed": false
   },
   "outputs": [
    {
     "data": {
      "text/plain": [
       "GridSearchCV(cv=5, error_score='raise',\n",
       "       estimator=GradientBoostingClassifier(init=None, learning_rate=0.1, loss='deviance',\n",
       "              max_depth=3, max_features='sqrt', max_leaf_nodes=None,\n",
       "              min_samples_leaf=1, min_samples_split=2,\n",
       "              min_weight_fraction_leaf=0.0, n_estimators=70,\n",
       "              random_state=10, subsample=0.8, verbose=0, warm_start=False),\n",
       "       fit_params={}, iid=False, loss_func=None, n_jobs=4,\n",
       "       param_grid={'min_samples_split': [200, 400, 600, 800, 1000], 'max_depth': [5, 7, 9, 11, 13, 15]},\n",
       "       pre_dispatch='2*n_jobs', refit=True, score_func=None,\n",
       "       scoring='roc_auc', verbose=0)"
      ]
     },
     "execution_count": 112,
     "metadata": {},
     "output_type": "execute_result"
    }
   ],
   "source": [
    "#Grid seach on subsample and max_features\n",
    "param_test2 = {'max_depth':range(5,16,2), 'min_samples_split':range(200,1001,200)}\n",
    "gsearch2 = GridSearchCV(estimator = GradientBoostingClassifier(learning_rate=0.1, n_estimators=70,\n",
    "                                                max_features='sqrt', subsample=0.8, random_state=10), \n",
    "                       param_grid = param_test2, scoring='roc_auc',n_jobs=4,iid=False, cv=5)\n",
    "gsearch2.fit(train[predictors],train[target])\n"
   ]
  },
  {
   "cell_type": "code",
   "execution_count": 113,
   "metadata": {
    "collapsed": false
   },
   "outputs": [
    {
     "data": {
      "text/plain": [
       "([mean: 0.83361, std: 0.01212, params: {'min_samples_split': 200, 'max_depth': 5},\n",
       "  mean: 0.83383, std: 0.01320, params: {'min_samples_split': 400, 'max_depth': 5},\n",
       "  mean: 0.83592, std: 0.01350, params: {'min_samples_split': 600, 'max_depth': 5},\n",
       "  mean: 0.83559, std: 0.01237, params: {'min_samples_split': 800, 'max_depth': 5},\n",
       "  mean: 0.83456, std: 0.01185, params: {'min_samples_split': 1000, 'max_depth': 5},\n",
       "  mean: 0.83634, std: 0.00696, params: {'min_samples_split': 200, 'max_depth': 7},\n",
       "  mean: 0.83723, std: 0.00767, params: {'min_samples_split': 400, 'max_depth': 7},\n",
       "  mean: 0.83668, std: 0.00962, params: {'min_samples_split': 600, 'max_depth': 7},\n",
       "  mean: 0.83712, std: 0.00974, params: {'min_samples_split': 800, 'max_depth': 7},\n",
       "  mean: 0.83851, std: 0.01038, params: {'min_samples_split': 1000, 'max_depth': 7},\n",
       "  mean: 0.83139, std: 0.01045, params: {'min_samples_split': 200, 'max_depth': 9},\n",
       "  mean: 0.83747, std: 0.00949, params: {'min_samples_split': 400, 'max_depth': 9},\n",
       "  mean: 0.83385, std: 0.00933, params: {'min_samples_split': 600, 'max_depth': 9},\n",
       "  mean: 0.83750, std: 0.00997, params: {'min_samples_split': 800, 'max_depth': 9},\n",
       "  mean: 0.83777, std: 0.01011, params: {'min_samples_split': 1000, 'max_depth': 9},\n",
       "  mean: 0.82671, std: 0.01047, params: {'min_samples_split': 200, 'max_depth': 11},\n",
       "  mean: 0.82944, std: 0.00934, params: {'min_samples_split': 400, 'max_depth': 11},\n",
       "  mean: 0.83334, std: 0.00827, params: {'min_samples_split': 600, 'max_depth': 11},\n",
       "  mean: 0.83122, std: 0.00967, params: {'min_samples_split': 800, 'max_depth': 11},\n",
       "  mean: 0.83568, std: 0.01259, params: {'min_samples_split': 1000, 'max_depth': 11},\n",
       "  mean: 0.82495, std: 0.00928, params: {'min_samples_split': 200, 'max_depth': 13},\n",
       "  mean: 0.82661, std: 0.00622, params: {'min_samples_split': 400, 'max_depth': 13},\n",
       "  mean: 0.82926, std: 0.01155, params: {'min_samples_split': 600, 'max_depth': 13},\n",
       "  mean: 0.83212, std: 0.01064, params: {'min_samples_split': 800, 'max_depth': 13},\n",
       "  mean: 0.83268, std: 0.01042, params: {'min_samples_split': 1000, 'max_depth': 13},\n",
       "  mean: 0.81704, std: 0.00629, params: {'min_samples_split': 200, 'max_depth': 15},\n",
       "  mean: 0.82271, std: 0.01118, params: {'min_samples_split': 400, 'max_depth': 15},\n",
       "  mean: 0.82739, std: 0.01015, params: {'min_samples_split': 600, 'max_depth': 15},\n",
       "  mean: 0.83248, std: 0.01129, params: {'min_samples_split': 800, 'max_depth': 15},\n",
       "  mean: 0.83451, std: 0.01393, params: {'min_samples_split': 1000, 'max_depth': 15}],\n",
       " {'max_depth': 7, 'min_samples_split': 1000},\n",
       " 0.83851118748201903)"
      ]
     },
     "execution_count": 113,
     "metadata": {},
     "output_type": "execute_result"
    }
   ],
   "source": [
    "gsearch2.grid_scores_, gsearch2.best_params_, gsearch2.best_score_"
   ]
  },
  {
   "cell_type": "markdown",
   "metadata": {},
   "source": [
    "Since we reached the maximum of min_sales_split, we should check higher values as well. \n",
    "Also, we can tune min_samples_leaf with it now as max_depth is fixed. One might argue that max depth might change \n",
    "for higher value but if you observe the output closely, a max_depth of 9 had a better model for most of cases. \n",
    "So lets perform a grid search on them:"
   ]
  },
  {
   "cell_type": "code",
   "execution_count": 114,
   "metadata": {
    "collapsed": false
   },
   "outputs": [
    {
     "data": {
      "text/plain": [
       "GridSearchCV(cv=5, error_score='raise',\n",
       "       estimator=GradientBoostingClassifier(init=None, learning_rate=0.1, loss='deviance',\n",
       "              max_depth=7, max_features='sqrt', max_leaf_nodes=None,\n",
       "              min_samples_leaf=1, min_samples_split=2,\n",
       "              min_weight_fraction_leaf=0.0, n_estimators=70,\n",
       "              random_state=10, subsample=0.8, verbose=0, warm_start=False),\n",
       "       fit_params={}, iid=False, loss_func=None, n_jobs=4,\n",
       "       param_grid={'min_samples_split': [1000, 1200, 1400, 1600, 1800, 2000], 'min_samples_leaf': [30, 40, 50, 60, 70]},\n",
       "       pre_dispatch='2*n_jobs', refit=True, score_func=None,\n",
       "       scoring='roc_auc', verbose=0)"
      ]
     },
     "execution_count": 114,
     "metadata": {},
     "output_type": "execute_result"
    }
   ],
   "source": [
    "#Grid seach on subsample and max_features\n",
    "param_test3 = {'min_samples_split':range(1000,2100,200), 'min_samples_leaf':range(30,71,10)}\n",
    "gsearch3 = GridSearchCV(estimator = GradientBoostingClassifier(learning_rate=0.1, n_estimators=70,max_depth=7,\n",
    "                                                    max_features='sqrt', subsample=0.8, random_state=10), \n",
    "                       param_grid = param_test3, scoring='roc_auc',n_jobs=4,iid=False, cv=5)\n",
    "gsearch3.fit(train[predictors],train[target])\n"
   ]
  },
  {
   "cell_type": "code",
   "execution_count": 115,
   "metadata": {
    "collapsed": false
   },
   "outputs": [
    {
     "data": {
      "text/plain": [
       "([mean: 0.83857, std: 0.01063, params: {'min_samples_split': 1000, 'min_samples_leaf': 30},\n",
       "  mean: 0.83876, std: 0.01128, params: {'min_samples_split': 1200, 'min_samples_leaf': 30},\n",
       "  mean: 0.83727, std: 0.01055, params: {'min_samples_split': 1400, 'min_samples_leaf': 30},\n",
       "  mean: 0.83995, std: 0.01018, params: {'min_samples_split': 1600, 'min_samples_leaf': 30},\n",
       "  mean: 0.83826, std: 0.01181, params: {'min_samples_split': 1800, 'min_samples_leaf': 30},\n",
       "  mean: 0.83830, std: 0.01091, params: {'min_samples_split': 2000, 'min_samples_leaf': 30},\n",
       "  mean: 0.83958, std: 0.00919, params: {'min_samples_split': 1000, 'min_samples_leaf': 40},\n",
       "  mean: 0.83817, std: 0.01085, params: {'min_samples_split': 1200, 'min_samples_leaf': 40},\n",
       "  mean: 0.83829, std: 0.01281, params: {'min_samples_split': 1400, 'min_samples_leaf': 40},\n",
       "  mean: 0.83883, std: 0.01040, params: {'min_samples_split': 1600, 'min_samples_leaf': 40},\n",
       "  mean: 0.83788, std: 0.01139, params: {'min_samples_split': 1800, 'min_samples_leaf': 40},\n",
       "  mean: 0.83730, std: 0.01009, params: {'min_samples_split': 2000, 'min_samples_leaf': 40},\n",
       "  mean: 0.83973, std: 0.01134, params: {'min_samples_split': 1000, 'min_samples_leaf': 50},\n",
       "  mean: 0.83862, std: 0.01096, params: {'min_samples_split': 1200, 'min_samples_leaf': 50},\n",
       "  mean: 0.83808, std: 0.01353, params: {'min_samples_split': 1400, 'min_samples_leaf': 50},\n",
       "  mean: 0.83971, std: 0.01091, params: {'min_samples_split': 1600, 'min_samples_leaf': 50},\n",
       "  mean: 0.83834, std: 0.01054, params: {'min_samples_split': 1800, 'min_samples_leaf': 50},\n",
       "  mean: 0.83602, std: 0.01183, params: {'min_samples_split': 2000, 'min_samples_leaf': 50},\n",
       "  mean: 0.84012, std: 0.01090, params: {'min_samples_split': 1000, 'min_samples_leaf': 60},\n",
       "  mean: 0.83768, std: 0.01229, params: {'min_samples_split': 1200, 'min_samples_leaf': 60},\n",
       "  mean: 0.83830, std: 0.01280, params: {'min_samples_split': 1400, 'min_samples_leaf': 60},\n",
       "  mean: 0.83834, std: 0.01086, params: {'min_samples_split': 1600, 'min_samples_leaf': 60},\n",
       "  mean: 0.83830, std: 0.01136, params: {'min_samples_split': 1800, 'min_samples_leaf': 60},\n",
       "  mean: 0.83700, std: 0.01206, params: {'min_samples_split': 2000, 'min_samples_leaf': 60},\n",
       "  mean: 0.83758, std: 0.00993, params: {'min_samples_split': 1000, 'min_samples_leaf': 70},\n",
       "  mean: 0.83722, std: 0.01287, params: {'min_samples_split': 1200, 'min_samples_leaf': 70},\n",
       "  mean: 0.83874, std: 0.01251, params: {'min_samples_split': 1400, 'min_samples_leaf': 70},\n",
       "  mean: 0.83786, std: 0.01137, params: {'min_samples_split': 1600, 'min_samples_leaf': 70},\n",
       "  mean: 0.83621, std: 0.01110, params: {'min_samples_split': 1800, 'min_samples_leaf': 70},\n",
       "  mean: 0.83820, std: 0.01128, params: {'min_samples_split': 2000, 'min_samples_leaf': 70}],\n",
       " {'min_samples_leaf': 60, 'min_samples_split': 1000},\n",
       " 0.84011574541336298)"
      ]
     },
     "execution_count": 115,
     "metadata": {},
     "output_type": "execute_result"
    }
   ],
   "source": [
    "gsearch3.grid_scores_, gsearch3.best_params_, gsearch3.best_score_"
   ]
  },
  {
   "cell_type": "code",
   "execution_count": 116,
   "metadata": {
    "collapsed": false
   },
   "outputs": [
    {
     "data": {
      "text/plain": [
       "GradientBoostingClassifier(init=None, learning_rate=0.1, loss='deviance',\n",
       "              max_depth=7, max_features='sqrt', max_leaf_nodes=None,\n",
       "              min_samples_leaf=60, min_samples_split=1000,\n",
       "              min_weight_fraction_leaf=0.0, n_estimators=70,\n",
       "              random_state=10, subsample=0.8, verbose=0, warm_start=False)"
      ]
     },
     "execution_count": 116,
     "metadata": {},
     "output_type": "execute_result"
    }
   ],
   "source": [
    "gsearch3.best_estimator_"
   ]
  },
  {
   "cell_type": "code",
   "execution_count": 117,
   "metadata": {
    "collapsed": false
   },
   "outputs": [
    {
     "name": "stdout",
     "output_type": "stream",
     "text": [
      "\n",
      "Model Report\n",
      "Accuracy : 0.9854\n",
      "AUC Score (Train): 0.885168\n",
      "CV Score : Mean - 0.8401157 | Std - 0.01090062 | Min - 0.8256361 | Max - 0.8528209\n"
     ]
    },
    {
     "data": {
      "image/png": "[encoded data removed]",
      "text/plain": [
       "<matplotlib.figure.Figure at 0x16745438>"
      ]
     },
     "metadata": {},
     "output_type": "display_data"
    }
   ],
   "source": [
    "modelfit(gsearch3.best_estimator_, train, test, predictors)"
   ]
  },
  {
   "cell_type": "code",
   "execution_count": 118,
   "metadata": {
    "collapsed": false
   },
   "outputs": [
    {
     "data": {
      "text/plain": [
       "GridSearchCV(cv=5, error_score='raise',\n",
       "       estimator=GradientBoostingClassifier(init=None, learning_rate=0.1, loss='deviance',\n",
       "              max_depth=7, max_features=None, max_leaf_nodes=None,\n",
       "              min_samples_leaf=60, min_samples_split=1200,\n",
       "              min_weight_fraction_leaf=0.0, n_estimators=70,\n",
       "              random_state=10, subsample=0.8, verbose=0, warm_start=False),\n",
       "       fit_params={}, iid=False, loss_func=None, n_jobs=4,\n",
       "       param_grid={'max_features': [7, 9, 11, 13, 15, 17, 19]},\n",
       "       pre_dispatch='2*n_jobs', refit=True, score_func=None,\n",
       "       scoring='roc_auc', verbose=0)"
      ]
     },
     "execution_count": 118,
     "metadata": {},
     "output_type": "execute_result"
    }
   ],
   "source": [
    "#Tune max_features:\n",
    "\n",
    "#Grid seach on subsample and max_features\n",
    "param_test4 = {'max_features':range(7,20,2)}\n",
    "gsearch4 = GridSearchCV(estimator = GradientBoostingClassifier(learning_rate=0.1, n_estimators=70,max_depth=7, \n",
    "                            min_samples_split=1200, min_samples_leaf=60, subsample=0.8, random_state=10),\n",
    "                       param_grid = param_test4, scoring='roc_auc',n_jobs=4,iid=False, cv=5)\n",
    "gsearch4.fit(train[predictors],train[target])\n"
   ]
  },
  {
   "cell_type": "code",
   "execution_count": 119,
   "metadata": {
    "collapsed": false
   },
   "outputs": [
    {
     "data": {
      "text/plain": [
       "([mean: 0.83768, std: 0.01229, params: {'max_features': 7},\n",
       "  mean: 0.83762, std: 0.01174, params: {'max_features': 9},\n",
       "  mean: 0.84071, std: 0.00788, params: {'max_features': 11},\n",
       "  mean: 0.83816, std: 0.01020, params: {'max_features': 13},\n",
       "  mean: 0.83882, std: 0.01058, params: {'max_features': 15},\n",
       "  mean: 0.83647, std: 0.00965, params: {'max_features': 17},\n",
       "  mean: 0.83428, std: 0.01044, params: {'max_features': 19}],\n",
       " {'max_features': 11},\n",
       " 0.84071372374133557)"
      ]
     },
     "execution_count": 119,
     "metadata": {},
     "output_type": "execute_result"
    }
   ],
   "source": [
    "gsearch4.grid_scores_, gsearch4.best_params_, gsearch4.best_score_"
   ]
  },
  {
   "cell_type": "code",
   "execution_count": 120,
   "metadata": {
    "collapsed": true
   },
   "outputs": [],
   "source": [
    "### Step3- Tune Subsample and Lower Learning Rate"
   ]
  },
  {
   "cell_type": "code",
   "execution_count": 121,
   "metadata": {
    "collapsed": false
   },
   "outputs": [
    {
     "data": {
      "text/plain": [
       "GridSearchCV(cv=5, error_score='raise',\n",
       "       estimator=GradientBoostingClassifier(init=None, learning_rate=0.1, loss='deviance',\n",
       "              max_depth=7, max_features=11, max_leaf_nodes=None,\n",
       "              min_samples_leaf=60, min_samples_split=1000,\n",
       "              min_weight_fraction_leaf=0.0, n_estimators=70,\n",
       "              random_state=10, subsample=0.8, verbose=0, warm_start=False),\n",
       "       fit_params={}, iid=False, loss_func=None, n_jobs=4,\n",
       "       param_grid={'subsample': [0.6, 0.7, 0.75, 0.8, 0.85, 0.9]},\n",
       "       pre_dispatch='2*n_jobs', refit=True, score_func=None,\n",
       "       scoring='roc_auc', verbose=0)"
      ]
     },
     "execution_count": 121,
     "metadata": {},
     "output_type": "execute_result"
    }
   ],
   "source": [
    "#Grid seach on subsample and max_features\n",
    "param_test5 = {'subsample':[0.6,0.7,0.75,0.8,0.85,0.9]}\n",
    "gsearch5 = GridSearchCV(estimator = GradientBoostingClassifier(learning_rate=0.1, n_estimators=70,max_depth=7, \n",
    "                            min_samples_split=1000, min_samples_leaf=60, subsample=0.8, random_state=10, max_features=11),\n",
    "                       param_grid = param_test5, scoring='roc_auc',n_jobs=4,iid=False, cv=5)\n",
    "gsearch5.fit(train[predictors],train[target])\n"
   ]
  },
  {
   "cell_type": "code",
   "execution_count": 122,
   "metadata": {
    "collapsed": false
   },
   "outputs": [
    {
     "data": {
      "text/plain": [
       "([mean: 0.83517, std: 0.00956, params: {'subsample': 0.6},\n",
       "  mean: 0.83918, std: 0.01107, params: {'subsample': 0.7},\n",
       "  mean: 0.83753, std: 0.00935, params: {'subsample': 0.75},\n",
       "  mean: 0.83648, std: 0.01026, params: {'subsample': 0.8},\n",
       "  mean: 0.83776, std: 0.00881, params: {'subsample': 0.85},\n",
       "  mean: 0.83966, std: 0.00870, params: {'subsample': 0.9}],\n",
       " {'subsample': 0.9},\n",
       " 0.83966473213150028)"
      ]
     },
     "execution_count": 122,
     "metadata": {},
     "output_type": "execute_result"
    }
   ],
   "source": [
    "gsearch5.grid_scores_, gsearch5.best_params_, gsearch5.best_score_"
   ]
  },
  {
   "cell_type": "code",
   "execution_count": 123,
   "metadata": {
    "collapsed": false
   },
   "outputs": [
    {
     "name": "stdout",
     "output_type": "stream",
     "text": [
      "\n",
      "Model Report\n",
      "Accuracy : 0.9854\n",
      "AUC Score (Train): 0.887752\n",
      "CV Score : Mean - 0.8396698 | Std - 0.01144432 | Min - 0.8268059 | Max - 0.8533296\n"
     ]
    },
    {
     "data": {
      "image/png": "[encoded data removed]",
      "text/plain": [
       "<matplotlib.figure.Figure at 0x152ee470>"
      ]
     },
     "metadata": {},
     "output_type": "display_data"
    }
   ],
   "source": [
    "#  With all tuned lets try reducing the learning rate and proportionally increasing the number of estimators to get\n",
    "#  more robust results:\n",
    "#Choose all predictors except target & IDcols\n",
    "predictors = [x for x in train.columns if x not in [target, IDcol]]\n",
    "gbm_tuned_1 = GradientBoostingClassifier(learning_rate=0.05, n_estimators=120,max_depth=7, min_samples_split=1000, \n",
    "                                         min_samples_leaf=60, subsample=0.9, random_state=10, max_features=11)\n",
    "modelfit(gbm_tuned_1, train, test, predictors)\n"
   ]
  },
  {
   "cell_type": "code",
   "execution_count": 124,
   "metadata": {
    "collapsed": false
   },
   "outputs": [
    {
     "name": "stdout",
     "output_type": "stream",
     "text": [
      "\n",
      "Model Report\n",
      "Accuracy : 0.9854\n",
      "AUC Score (Train): 0.890648\n",
      "CV Score : Mean - 0.8404079 | Std - 0.009555258 | Min - 0.8283647 | Max - 0.8514279\n"
     ]
    },
    {
     "data": {
      "image/png": "[encoded data removed]",
      "text/plain": [
       "<matplotlib.figure.Figure at 0xb7a0d68>"
      ]
     },
     "metadata": {},
     "output_type": "display_data"
    }
   ],
   "source": [
    "# 1/10th learning rate\n",
    "#Choose all predictors except target & IDcols\n",
    "predictors = [x for x in train.columns if x not in [target, IDcol]]\n",
    "gbm_tuned_2 = GradientBoostingClassifier(learning_rate=0.01, n_estimators=600,max_depth=7, min_samples_split=1000, \n",
    "                                         min_samples_leaf=60, subsample=0.9, random_state=10, max_features=11)\n",
    "modelfit(gbm_tuned_2, train, test, predictors)\n"
   ]
  },
  {
   "cell_type": "code",
   "execution_count": 126,
   "metadata": {
    "collapsed": false
   },
   "outputs": [
    {
     "name": "stdout",
     "output_type": "stream",
     "text": [
      "\n",
      "Model Report\n",
      "Accuracy : 0.9854\n",
      "AUC Score (Train): 0.887661\n"
     ]
    },
    {
     "data": {
      "image/png": "[encoded data removed]",
      "text/plain": [
       "<matplotlib.figure.Figure at 0x15baeef0>"
      ]
     },
     "metadata": {},
     "output_type": "display_data"
    }
   ],
   "source": [
    "# 1/50th learning rate\n",
    "#Choose all predictors except target & IDcols\n",
    "predictors = [x for x in train.columns if x not in [target, IDcol]]\n",
    "gbm_tuned_3 = GradientBoostingClassifier(learning_rate=0.005, n_estimators=1000,max_depth=7, min_samples_split=1000, \n",
    "                                         min_samples_leaf=60, subsample=0.85, random_state=10, max_features=11,\n",
    "                                         warm_start=True)\n",
    "modelfit(gbm_tuned_3, train, test, predictors, performCV=False)\n"
   ]
  },
  {
   "cell_type": "code",
   "execution_count": 130,
   "metadata": {
    "collapsed": false
   },
   "outputs": [
    {
     "name": "stdout",
     "output_type": "stream",
     "text": [
      "\n",
      "Model Report\n",
      "Accuracy : 0.9854\n",
      "AUC Score (Train): 0.895887\n"
     ]
    },
    {
     "data": {
      "image/png": "[encoded data removed]",
      "text/plain": [
       "<matplotlib.figure.Figure at 0xc82d710>"
      ]
     },
     "metadata": {},
     "output_type": "display_data"
    }
   ],
   "source": [
    "#Choose all predictors except target & IDcols\n",
    "predictors = [x for x in train.columns if x not in [target, IDcol]]\n",
    "gbm_tuned_4 = GradientBoostingClassifier(learning_rate=0.005, n_estimators=1500,max_depth=7, min_samples_split=1000, \n",
    "                                         min_samples_leaf=60, subsample=0.90, random_state=10, max_features=11,\n",
    "                                         warm_start=True)\n",
    "modelfit(gbm_tuned_4, train, test, predictors, performCV=False)\n"
   ]
  },
  {
   "cell_type": "code",
   "execution_count": null,
   "metadata": {
    "collapsed": true
   },
   "outputs": [],
   "source": []
  }
 ],
 "metadata": {
  "kernelspec": {
   "display_name": "Python 2",
   "language": "python",
   "name": "python2"
  },
  "language_info": {
   "codemirror_mode": {
    "name": "ipython",
    "version": 2
   },
   "file_extension": ".py",
   "mimetype": "text/x-python",
   "name": "python",
   "nbconvert_exporter": "python",
   "pygments_lexer": "ipython2",
   "version": "2.7.11"
  }
 },
 "nbformat": 4,
 "nbformat_minor": 0
}
